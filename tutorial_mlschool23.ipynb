{
 "cells": [
  {
   "cell_type": "markdown",
   "metadata": {},
   "source": [
    "Descobrindo novos materiais usando Inteligência Artificial (e aprendendo algo novo no processo)\n",
    "===============================================================================================\n",
    "\n",
    "**Autor:** Daniel R. Cassar\n",
    "\n"
   ]
  },
  {
   "cell_type": "markdown",
   "metadata": {
    "jp-MarkdownHeadingCollapsed": true
   },
   "source": [
    "## Parte 0 - Avisos, instalações e importações\n",
    "\n"
   ]
  },
  {
   "cell_type": "markdown",
   "metadata": {},
   "source": [
    "1.  Estrutura do notebook\n",
    "\n",
    "2.  Python\n",
    "\n",
    "3.  Comentários e dúvidas no final de cada parte\n",
    "\n",
    "4.  Módulos básicos: `numpy`, `scipy`, `pandas` e `matplotlib`\n",
    "\n",
    "5.  Módulos específicos: `scikit-learn`, `pymoo`, `shap` e `glasspy`\n",
    "\n"
   ]
  },
  {
   "cell_type": "code",
   "execution_count": null,
   "metadata": {},
   "outputs": [],
   "source": [
    "import sys\n",
    "\n",
    "!{sys.executable} -m pip install pymoo==0.6.0.1\n",
    "!{sys.executable} -m pip install shap==0.42.1\n",
    "!{sys.executable} -m pip install glasspy==0.4.4"
   ]
  },
  {
   "cell_type": "code",
   "execution_count": null,
   "metadata": {},
   "outputs": [],
   "source": [
    "import numpy as np\n",
    "import pandas as pd\n",
    "import shap\n",
    "from matplotlib import pyplot as plt\n",
    "from scipy.stats import randint\n",
    "\n",
    "from sklearn.model_selection import train_test_split\n",
    "from sklearn.tree import DecisionTreeRegressor\n",
    "from sklearn.ensemble import RandomForestRegressor\n",
    "from sklearn.metrics import mean_squared_error\n",
    "from sklearn import tree\n",
    "from sklearn.model_selection import RandomizedSearchCV\n",
    "from sklearn.tree import export_text\n",
    "\n",
    "from pymoo.core.problem import ElementwiseProblem, Problem\n",
    "from pymoo.algorithms.moo.nsga2 import NSGA2\n",
    "from pymoo.operators.crossover.sbx import SBX\n",
    "from pymoo.operators.mutation.pm import PM\n",
    "from pymoo.operators.sampling.rnd import FloatRandomSampling\n",
    "from pymoo.termination import get_termination\n",
    "from pymoo.optimize import minimize\n",
    "\n",
    "from glasspy.predict import GlassNet\n",
    "from glasspy.chemistry import to_array\n",
    "from glasspy.data import SciGlass"
   ]
  },
  {
   "cell_type": "markdown",
   "metadata": {},
   "source": [
    "<hr>\n",
    "\n"
   ]
  },
  {
   "cell_type": "markdown",
   "metadata": {
    "jp-MarkdownHeadingCollapsed": true
   },
   "source": [
    "## Parte 1 - Dados\n",
    "\n"
   ]
  },
  {
   "cell_type": "markdown",
   "metadata": {},
   "source": [
    "Banco de dados SciGlass\n",
    "\n",
    "1.  Histórico / criadores\n",
    "\n",
    "2.  Estatísticas\n",
    "\n",
    "3.  Licença Open Database [https://github.com/epam/SciGlass](https://github.com/epam/SciGlass)\n",
    "\n"
   ]
  },
  {
   "cell_type": "markdown",
   "metadata": {},
   "source": [
    "### Carregando dados do SciGlass usando `GlassPy`\n",
    "\n"
   ]
  },
  {
   "cell_type": "markdown",
   "metadata": {},
   "source": [
    "O módulo `GlassPy` já tem os dados do SciGlass e já carrega eles em DataFrames de `pandas`.\n",
    "\n",
    "Na primeira vez que rodamos temos que baixar os dados do servidor, isso pode demorar uns minutos. Fora isso, toda vez que você carregar os dados, o `GlassPy` deve ler as tabelas do SciGlass e processá-las. Isto também leva um certo tempo.\n",
    "\n"
   ]
  },
  {
   "cell_type": "code",
   "execution_count": null,
   "metadata": {},
   "outputs": [],
   "source": [
    "sciglass = SciGlass()\n",
    "\n",
    "df = sciglass.data\n",
    "df"
   ]
  },
  {
   "cell_type": "markdown",
   "metadata": {},
   "source": [
    "### Informações disponíveis e seu significado\n",
    "\n"
   ]
  },
  {
   "cell_type": "markdown",
   "metadata": {},
   "source": [
    "Metadados:\n",
    "\n",
    "-   `ChemicalAnalysis`: Indicates if the glass composition was obtained by chemical analysis\n",
    "-   `Author`: First author of the publication\n",
    "-   `Year`: Year of the publication\n",
    "\n",
    "Propriedades:\n",
    "\n",
    "-   `T0`: Temperature where viscosity is 1 Pa.s (K)\n",
    "-   `T1`: Temperature where viscosity is 10 Pa.s (K)\n",
    "-   `T2`: Temperature where viscosity is 100 Pa.s (K)\n",
    "-   `T3`: Temperature where viscosity is 1000 Pa.s (K)\n",
    "-   `T4`: Temperature where viscosity is 10000 Pa.s (K)\n",
    "-   `T5`: Temperature where viscosity is 100000 Pa.s (K)\n",
    "-   `T6`: Temperature where viscosity is 1000000 Pa.s (K)\n",
    "-   `T7`: Temperature where viscosity is 10000000 Pa.s (K)\n",
    "-   `T8`: Temperature where viscosity is 100000000 Pa.s (K)\n",
    "-   `T9`: Temperature where viscosity is 1000000000 Pa.s (K)\n",
    "-   `T10`: Temperature where viscosity is 10000000000 Pa.s (K)\n",
    "-   `T11`: Temperature where viscosity is 100000000000 Pa.s (K)\n",
    "-   `T12`: Temperature where viscosity is 1000000000000 Pa.s (K)\n",
    "-   `Viscosity773K`: Viscosity at 773 K (Pa.s)\n",
    "-   `Viscosity873K`: Viscosity at 873 K (Pa.s)\n",
    "-   `Viscosity973K`: Viscosity at 973 K (Pa.s)\n",
    "-   `Viscosity1073K`: Viscosity at 1073 K (Pa.s)\n",
    "-   `Viscosity1173K`: Viscosity at 1173 K (Pa.s)\n",
    "-   `Viscosity1273K`: Viscosity at 1273 K (Pa.s)\n",
    "-   `Viscosity1373K`: Viscosity at 1373 K (Pa.s)\n",
    "-   `Viscosity1473K`: Viscosity at 1473 K (Pa.s)\n",
    "-   `Viscosity1573K`: Viscosity at 1573 K (Pa.s)\n",
    "-   `Viscosity1673K`: Viscosity at 1673 K (Pa.s)\n",
    "-   `Viscosity1773K`: Viscosity at 1773 K (Pa.s)\n",
    "-   `Viscosity1873K`: Viscosity at 1873 K (Pa.s)\n",
    "-   `Viscosity2073K`: Viscosity at 2073 K (Pa.s)\n",
    "-   `Viscosity2273K`: Viscosity at 2273 K (Pa.s)\n",
    "-   `Viscosity2473K`: Viscosity at 2473 K (Pa.s)\n",
    "-   `Tg`: Glass transition temperature (K)\n",
    "-   `Tmelt`: Melting temperature (K)\n",
    "-   `Tliquidus`: Liquidus temperature (K)\n",
    "-   `TLittletons`: Littletons softening temperature (K)\n",
    "-   `TAnnealing`: Annealing point (K)\n",
    "-   `Tstrain`: Strain point (K)\n",
    "-   `Tsoft`: Softening point (K)\n",
    "-   `TdilatometricSoftening`: Dilatometric softening temperature (K)\n",
    "-   `AbbeNum`: Abbe&rsquo;s number\n",
    "-   `RefractiveIndex`: Refractive index\n",
    "-   `RefractiveIndexLow`: Refractive index measured at a wavelenght between 0.6 and 1 micron at 293 K\n",
    "-   `RefractiveIndexHigh`: Refractive index measured at a wavelenght greater than 1 micron at 293 K\n",
    "-   `MeanDispersion`: Mean dispersion (nF - nC)\n",
    "-   `Permittivity`: Relative permittivity at ambient temperature anf frequency of1 MHz (or the nearest frequency in the range of 0.01 MHz to 10 MHz)\n",
    "-   `TangentOfLossAngle`: Tangent of loss angle\n",
    "-   `TresistivityIs1MOhm.m`: Temperature where the specific electrical resistivity is 1MOhm.m (K)\n",
    "-   `Resistivity273K`: Specific electrical resistivity measured at 273 K (Ohm.m)\n",
    "-   `Resistivity373K`: Specific electrical resistivity measured at 373 K (Ohm.m)\n",
    "-   `Resistivity423K`: Specific electrical resistivity measured at 423 K (Ohm.m)\n",
    "-   `Resistivity573K`: Specific electrical resistivity measured at 573 K (Ohm.m)\n",
    "-   `Resistivity1073K`: Specific electrical resistivity measured at 1073 K (Ohm.m)\n",
    "-   `Resistivity1273K`: Specific electrical resistivity measured at 1273 K (Ohm.m)\n",
    "-   `Resistivity1473K`: Specific electrical resistivity measured at 1473 K (Ohm.m)\n",
    "-   `Resistivity1673K`: Specific electrical resistivity measured at 1673 K (Ohm.m)\n",
    "-   `YoungModulus`: Young&rsquo;s Modulus (GPa)\n",
    "-   `ShearModulus`: Shear Modulus (GPa)\n",
    "-   `Microhardness`: Microhardness measured by Knoop or Vickers indentation (GPa)\n",
    "-   `PoissonRatio`: Poisson&rsquo;s ratio\n",
    "-   `Density293K`: Density measured at 293 K (g/cm3)\n",
    "-   `Density1073K`: Density measured at 1073 K (g/cm3)\n",
    "-   `Density1273K`: Density measured at 1273 K (g/cm3)\n",
    "-   `Density1473K`: Density measured at 1473 K (g/cm3)\n",
    "-   `Density1673K`: Density measured at 1673 K (g/cm3)\n",
    "-   `ThermalConductivity`: Thermal conductivity (W/(m.K))\n",
    "-   `ThermalShockRes`: Thermal shock resistance (K)\n",
    "-   `CTEbelowTg`: Linear coefficient of thermal expansion measured below the glass transition temperature (1/K)\n",
    "-   `CTE328K`: Linear coefficient of thermal expansion measured at 328 +/- 10 K (1/K)\n",
    "-   `CTE373K`: Linear coefficient of thermal expansion measured at 373 +/- 10 K (1/K)\n",
    "-   `CTE433K`: Linear coefficient of thermal expansion measured at 433 +/- 10 K (1/K)\n",
    "-   `CTE483K`: Linear coefficient of thermal expansion measured at 483 +/- 10 K (1/K)\n",
    "-   `CTE623K`: Linear coefficient of thermal expansion measured at 623 +/- 10 K (1/K)\n",
    "-   `Cp293K`: Heat capacity at constant pressure measured at 293 K (J/(kg.K))\n",
    "-   `Cp473K`: Heat capacity at constant pressure measured at 473 K (J/(kg.K))\n",
    "-   `Cp673K`: Heat capacity at constant pressure measured at 673 K (J/(kg.K))\n",
    "-   `Cp1073K`: Heat capacity at constant pressure measured at 1073 K (J/(kg.K))\n",
    "-   `Cp1273K`: Heat capacity at constant pressure measured at 1273 K (J/(kg.K))\n",
    "-   `Cp1473K`: Heat capacity at constant pressure measured at 1473 K (J/(kg.K))\n",
    "-   `Cp1673K`: Heat capacity at constant pressure measured at 1673 K (J/(kg.K))\n",
    "-   `NucleationTemperature`: Nucleation temperature (K)\n",
    "-   `NucleationRate`: Crystal nucleation rate (1/(s.m3))\n",
    "-   `TMaxGrowthVelocity`: Temperature of maximum crystal growth velocity (K)\n",
    "-   `MaxGrowthVelocity`: Maximum crystal growth velocity (m/s)\n",
    "-   `CrystallizationPeak`: DTA temperature of crystallization peak (K)\n",
    "-   `CrystallizationOnset`: DTA temperature of crystallization onset (K)\n",
    "-   `SurfaceTensionAboveTg`: Surface tension above the glass transition temperature (J/m2)\n",
    "-   `SurfaceTension1173K`: Surface tension at 1173 K (J/m2)\n",
    "-   `SurfaceTension1473K`: Surface tension at 1473 K (J/m2)\n",
    "-   `SurfaceTension1573K`: Surface tension at 1573 K (J/m2)\n",
    "-   `SurfaceTension1673K`: Surface tension at 1673 K (J/m2)\n",
    "\n"
   ]
  },
  {
   "cell_type": "markdown",
   "metadata": {},
   "source": [
    "### Estrutura da tabela\n",
    "\n"
   ]
  },
  {
   "cell_type": "markdown",
   "metadata": {},
   "source": [
    "O DataFrame está estruturado em dois níveis. No primeiro nível temos informação agrupada por composição, propriedade e metadados.\n",
    "\n"
   ]
  },
  {
   "cell_type": "code",
   "execution_count": null,
   "metadata": {},
   "outputs": [],
   "source": [
    "df.columns.levels[0]"
   ]
  },
  {
   "cell_type": "markdown",
   "metadata": {},
   "source": [
    "Veja na célula abaixo como explorar a composição química elementar dos vidros.\n",
    "\n"
   ]
  },
  {
   "cell_type": "code",
   "execution_count": null,
   "metadata": {},
   "outputs": [],
   "source": [
    "elementos = df[\"elements\"]\n",
    "elementos"
   ]
  },
  {
   "cell_type": "markdown",
   "metadata": {},
   "source": [
    "Veja na célula abaixo como explorar uma coluna específica dentro do grupo de propriedades.\n",
    "\n"
   ]
  },
  {
   "cell_type": "code",
   "execution_count": null,
   "metadata": {},
   "outputs": [],
   "source": [
    "propriedade = df[\"property\"][\"Tg\"]\n",
    "propriedade"
   ]
  },
  {
   "cell_type": "markdown",
   "metadata": {},
   "source": [
    "Com o `pandas` podemos fazer uma análise exploratória dos dados.\n",
    "\n"
   ]
  },
  {
   "cell_type": "code",
   "execution_count": null,
   "metadata": {},
   "outputs": [],
   "source": [
    "eixo = df[\"property\"][\"Tg\"].hist()\n",
    "eixo.set_xlabel(\"Tg\")\n",
    "eixo.set_ylabel(\"Quantidade\")"
   ]
  },
  {
   "cell_type": "code",
   "execution_count": null,
   "metadata": {},
   "outputs": [],
   "source": [
    "eixo = df[\"metadata\"][\"Year\"].hist()\n",
    "eixo.set_xlabel(\"Ano\")\n",
    "eixo.set_ylabel(\"Quantidade\")"
   ]
  },
  {
   "cell_type": "markdown",
   "metadata": {},
   "source": [
    "### Controlando a coleta de dados\n",
    "\n"
   ]
  },
  {
   "cell_type": "markdown",
   "metadata": {},
   "source": [
    "Na maioria dos casos nós temos interesse em filtrar os dados considerando certas restrições.\n",
    "\n"
   ]
  },
  {
   "cell_type": "code",
   "execution_count": null,
   "metadata": {},
   "outputs": [],
   "source": [
    "ELEMENTOS_INTERESSE = [\"Si\", \"O\", \"Ca\", \"Mg\", \"K\", \"Li\", \"Na\", \"Al\"]\n",
    "PROPRIEDADE_INTERESSE = \"Tg\""
   ]
  },
  {
   "cell_type": "code",
   "execution_count": null,
   "metadata": {},
   "outputs": [],
   "source": [
    "elementos = [\"H\", \"He\", \"Li\", \"Be\", \"B\", \"C\", \"N\", \"O\", \"F\", \"Ne\",\n",
    "             \"Na\", \"Mg\", \"Al\", \"Si\", \"P\", \"S\", \"Cl\", \"Ar\", \"K\", \"Ca\", \"Sc\",\n",
    "             \"Ti\", \"V\", \"Cr\", \"Mn\", \"Fe\", \"Co\", \"Ni\", \"Cu\", \"Zn\", \"Ga\", \"Ge\",\n",
    "             \"As\", \"Se\", \"Br\", \"Kr\", \"Rb\", \"Sr\", \"Y\", \"Zr\", \"Nb\", \"Mo\", \"Tc\",\n",
    "             \"Ru\", \"Rh\", \"Pd\", \"Ag\", \"Cd\", \"In\", \"Sn\", \"Sb\", \"Te\", \"I\", \"Xe\",\n",
    "             \"Cs\", \"Ba\", \"La\", \"Ce\", \"Pr\", \"Nd\", \"Pm\", \"Sm\", \"Eu\", \"Gd\", \"Tb\",\n",
    "             \"Dy\", \"Ho\", \"Er\", \"Tm\", \"Yb\", \"Lu\", \"Hf\", \"Ta\", \"W\", \"Re\", \"Os\",\n",
    "             \"Ir\", \"Pt\", \"Au\", \"Hg\", \"Tl\", \"Pb\", \"Bi\", \"Po\", \"At\", \"Rn\", \"Fr\",\n",
    "             \"Ra\", \"Ac\", \"Th\", \"Pa\", \"U\", \"Np\", \"Pu\"]\n",
    "\n",
    "elementos_indesejados = elementos.copy()\n",
    "\n",
    "for item in ELEMENTOS_INTERESSE:\n",
    "    elementos_indesejados.remove(item)\n",
    "\n",
    "propriedades_indesejadas = sciglass.available_properties()\n",
    "\n",
    "propriedades_indesejadas.remove(PROPRIEDADE_INTERESSE)"
   ]
  },
  {
   "cell_type": "code",
   "execution_count": null,
   "metadata": {},
   "outputs": [],
   "source": [
    "config_elementos = {\n",
    "    \"dropline\": elementos_indesejados,\n",
    "    \"return_weight\": False,\n",
    "    \"final_sum\": 100,\n",
    "}\n",
    "\n",
    "config_propriedades = {\n",
    "    \"keep\": [PROPRIEDADE_INTERESSE],\n",
    "    \"dropline\": propriedades_indesejadas,\n",
    "}\n",
    "\n",
    "config_compostos = {\n",
    "    \"return_weight\": False,\n",
    "    \"final_sum\": 100,\n",
    "    \"dropline\": elementos,\n",
    "}\n",
    "\n",
    "sg = SciGlass(\n",
    "    elements_cfg=config_elementos,\n",
    "    properties_cfg=config_propriedades,\n",
    "    compounds_cfg=config_compostos,\n",
    ")\n",
    "\n",
    "sg.remove_duplicate_composition(\n",
    "    scope=\"compounds\",\n",
    "    decimals=1,\n",
    "    aggregator=\"median\",\n",
    ")\n",
    "\n",
    "df = sg.data.droplevel(0, axis=1)\n",
    "df"
   ]
  },
  {
   "cell_type": "markdown",
   "metadata": {},
   "source": [
    "O processo acima já remove dados duplicados (problema do vazamento de dados).\n",
    "\n"
   ]
  },
  {
   "cell_type": "markdown",
   "metadata": {},
   "source": [
    "### Exportando o DataFrame para uma tabela de Excel\n",
    "\n"
   ]
  },
  {
   "cell_type": "code",
   "execution_count": null,
   "metadata": {},
   "outputs": [],
   "source": [
    "NOME_DO_ARQUIVO = \"minha_tabela\"\n",
    "\n",
    "df.to_excel(f\"{NOME_DO_ARQUIVO}.xlsx\")"
   ]
  },
  {
   "cell_type": "markdown",
   "metadata": {},
   "source": [
    "### Separando os atributos e target\n",
    "\n"
   ]
  },
  {
   "cell_type": "code",
   "execution_count": null,
   "metadata": {},
   "outputs": [],
   "source": [
    "X = df.drop(PROPRIEDADE_INTERESSE, axis=1)\n",
    "y = df.reindex([PROPRIEDADE_INTERESSE], axis=1)"
   ]
  },
  {
   "cell_type": "markdown",
   "metadata": {},
   "source": [
    "Vamos ver o que obtivemos.\n",
    "\n"
   ]
  },
  {
   "cell_type": "code",
   "execution_count": null,
   "metadata": {},
   "outputs": [],
   "source": [
    "X"
   ]
  },
  {
   "cell_type": "code",
   "execution_count": null,
   "metadata": {},
   "outputs": [],
   "source": [
    "y"
   ]
  },
  {
   "cell_type": "markdown",
   "metadata": {},
   "source": [
    "### Divisão dos dados em treino e teste\n",
    "\n"
   ]
  },
  {
   "cell_type": "markdown",
   "metadata": {},
   "source": [
    "Para medir a performance de um modelo, precisamos de dados que ele nunca tenha visto. A estratégia abaixo é a conhecida como split de treino e teste.\n",
    "\n"
   ]
  },
  {
   "cell_type": "code",
   "execution_count": null,
   "metadata": {},
   "outputs": [],
   "source": [
    "TAMANHO_TESTE = 0.1        # fração de dados reservada para teste\n",
    "SEMENTE_ALEATORIA = 61455  # escolha um número inteiro positivo qualquer\n",
    "\n",
    "indices = df.index\n",
    "indices_treino, indices_teste = train_test_split(\n",
    "    indices, test_size=TAMANHO_TESTE, random_state=SEMENTE_ALEATORIA\n",
    ")\n",
    "\n",
    "df_treino = df.loc[indices_treino]\n",
    "df_teste = df.loc[indices_teste]\n",
    "\n",
    "X_treino = df_treino.drop(PROPRIEDADE_INTERESSE, axis=1)\n",
    "y_treino = df_treino.reindex([PROPRIEDADE_INTERESSE], axis=1)\n",
    "\n",
    "X_teste = df_teste.drop(PROPRIEDADE_INTERESSE, axis=1)\n",
    "y_teste = df_teste.reindex([PROPRIEDADE_INTERESSE], axis=1)"
   ]
  },
  {
   "cell_type": "markdown",
   "metadata": {},
   "source": [
    "Vamos ver o que obtivemos para os atributos e target de treino.\n",
    "\n"
   ]
  },
  {
   "cell_type": "code",
   "execution_count": null,
   "metadata": {},
   "outputs": [],
   "source": [
    "X_treino"
   ]
  },
  {
   "cell_type": "code",
   "execution_count": null,
   "metadata": {},
   "outputs": [],
   "source": [
    "y_treino"
   ]
  },
  {
   "cell_type": "markdown",
   "metadata": {},
   "source": [
    "Vamos ver o que obtivemos para os atributos e target de teste.\n",
    "\n"
   ]
  },
  {
   "cell_type": "code",
   "execution_count": null,
   "metadata": {},
   "outputs": [],
   "source": [
    "X_teste"
   ]
  },
  {
   "cell_type": "code",
   "execution_count": null,
   "metadata": {},
   "outputs": [],
   "source": [
    "y_teste"
   ]
  },
  {
   "cell_type": "markdown",
   "metadata": {},
   "source": [
    "Por fim, agora que terminamos de usar o `pandas`, vamos converter estas variáveis em arrays de `numpy`.\n",
    "\n"
   ]
  },
  {
   "cell_type": "code",
   "execution_count": null,
   "metadata": {},
   "outputs": [],
   "source": [
    "X_treino = X_treino.values\n",
    "y_treino = y_treino.values.ravel()\n",
    "X_teste = X_teste.values\n",
    "y_teste = y_teste.values.ravel()"
   ]
  },
  {
   "cell_type": "markdown",
   "metadata": {},
   "source": [
    "<hr>\n",
    "\n"
   ]
  },
  {
   "cell_type": "markdown",
   "metadata": {
    "jp-MarkdownHeadingCollapsed": true
   },
   "source": [
    "## Parte 2 - Treinando um modelo\n",
    "\n"
   ]
  },
  {
   "cell_type": "markdown",
   "metadata": {},
   "source": [
    "1.  Existem diversos algoritmos de aprendizado de máquina supervisionado\n",
    "\n",
    "2.  Existem dois tipos de problemas supervisionados: regressão e classificação\n",
    "\n",
    "3.  Durante o treino de um modelo, o algoritmo é apresentado aos dados de treino (tanto atributos quanto target)\n",
    "\n",
    "4.  A performance do modelo treinado pode ser estimada utilizando os dados de teste\n",
    "\n",
    "5.  Uma métrica usual para estimar a performance de modelos de regressão é o RMSE\n",
    "\n",
    "$$\n",
    "\\mathrm{RMSE} = \\sqrt{\\sum_{i=1}^{N} \\frac{(y_i - \\hat{y}_i)^2}{N}}.\n",
    "$$\n",
    "\n"
   ]
  },
  {
   "cell_type": "markdown",
   "metadata": {},
   "source": [
    "### Treinando um modelo preditivo tipo árvore de decisão\n",
    "\n"
   ]
  },
  {
   "cell_type": "markdown",
   "metadata": {},
   "source": [
    "#### O que é uma árvore de decisão?\n",
    "\n"
   ]
  },
  {
   "cell_type": "markdown",
   "metadata": {},
   "source": [
    "1.  Árvores de decisão são grafos direcionais acíclicos.\n",
    "\n",
    "2.  Árvores de decisão são modelos interpretáveis!\n",
    "\n"
   ]
  },
  {
   "cell_type": "code",
   "execution_count": null,
   "metadata": {},
   "outputs": [],
   "source": [
    "modelo = DecisionTreeRegressor(max_depth=3)\n",
    "modelo.fit(X_treino, y_treino)\n",
    "\n",
    "figura, eixo = plt.subplots(dpi=300)\n",
    "\n",
    "tree.plot_tree(\n",
    "    modelo,\n",
    "    feature_names=X.columns.tolist(),\n",
    "    ax=eixo,\n",
    "    impurity=False,\n",
    "    filled=True,\n",
    "    proportion=True,\n",
    "    precision=2,\n",
    ")\n",
    "\n",
    "print(\"Minha árvore de decisão:\")"
   ]
  },
  {
   "cell_type": "markdown",
   "metadata": {},
   "source": [
    "Podemos representar as decisões na forma de texto também.\n",
    "\n"
   ]
  },
  {
   "cell_type": "code",
   "execution_count": null,
   "metadata": {},
   "outputs": [],
   "source": [
    "texto = export_text(\n",
    "    modelo,\n",
    "    feature_names=X.columns.tolist(),\n",
    "    decimals=2,\n",
    ")\n",
    "\n",
    "print(texto)"
   ]
  },
  {
   "cell_type": "markdown",
   "metadata": {},
   "source": [
    "#### Treinando uma árvore de decisão\n",
    "\n"
   ]
  },
  {
   "cell_type": "markdown",
   "metadata": {},
   "source": [
    "Vamos treinar uma árvore de decisão.\n",
    "\n"
   ]
  },
  {
   "cell_type": "code",
   "execution_count": null,
   "metadata": {},
   "outputs": [],
   "source": [
    "modelo = DecisionTreeRegressor()\n",
    "modelo.fit(X_treino, y_treino)"
   ]
  },
  {
   "cell_type": "markdown",
   "metadata": {},
   "source": [
    "Vamos estimar a performance do modelo.\n",
    "\n"
   ]
  },
  {
   "cell_type": "code",
   "execution_count": null,
   "metadata": {},
   "outputs": [],
   "source": [
    "y_verdadeiro = y_teste\n",
    "y_previsao = modelo.predict(X_teste)\n",
    "\n",
    "RMSE = mean_squared_error(y_verdadeiro, y_previsao, squared=False)\n",
    "\n",
    "print(f\"O RMSE do modelo árvore de decisão foi de {RMSE} unidades de y.\")"
   ]
  },
  {
   "cell_type": "markdown",
   "metadata": {},
   "source": [
    "Uma forma de visualizar a performance é graficando o valor real versus o predito do target.\n",
    "\n"
   ]
  },
  {
   "cell_type": "code",
   "execution_count": null,
   "metadata": {},
   "outputs": [],
   "source": [
    "figura, eixo = plt.subplots()\n",
    "\n",
    "x_plot = y_verdadeiro\n",
    "y_plot = y_previsao\n",
    "\n",
    "min_ = min(min(x_plot),min(y_plot))\n",
    "max_ = max(max(x_plot),max(y_plot))\n",
    "\n",
    "eixo.plot([min_,max_], [min_,max_], label=\"Identidade\")\n",
    "\n",
    "eixo.plot(\n",
    "    x_plot,\n",
    "    y_plot,\n",
    "    marker=\"o\",\n",
    "    linestyle=\"none\",\n",
    ")\n",
    "\n",
    "eixo.legend()\n",
    "\n",
    "eixo.set_xlabel(\"y verdadeiro\")\n",
    "eixo.set_ylabel(\"y previsto\")"
   ]
  },
  {
   "cell_type": "markdown",
   "metadata": {},
   "source": [
    "### Treinando um modelo preditivo tipo floresta aleatória\n",
    "\n"
   ]
  },
  {
   "cell_type": "markdown",
   "metadata": {},
   "source": [
    "O que é uma floresta aleatória?\n",
    "\n",
    "Vamos treinar uma floresta aleatória.\n",
    "\n"
   ]
  },
  {
   "cell_type": "code",
   "execution_count": null,
   "metadata": {},
   "outputs": [],
   "source": [
    "modelo = RandomForestRegressor(random_state=61455)\n",
    "modelo.fit(X_treino, y_treino)"
   ]
  },
  {
   "cell_type": "markdown",
   "metadata": {},
   "source": [
    "Será que a performance é melhor do que a da árvore de decisão?\n",
    "\n"
   ]
  },
  {
   "cell_type": "code",
   "execution_count": null,
   "metadata": {},
   "outputs": [],
   "source": [
    "y_verdadeiro = y_teste\n",
    "y_previsao = modelo.predict(X_teste)\n",
    "\n",
    "RMSE = mean_squared_error(y_verdadeiro, y_previsao, squared=False)\n",
    "\n",
    "print(f\"O RMSE do modelo floresta aleatória foi de {RMSE} unidades de y.\")"
   ]
  },
  {
   "cell_type": "code",
   "execution_count": null,
   "metadata": {},
   "outputs": [],
   "source": [
    "figura, eixo = plt.subplots()\n",
    "\n",
    "x_plot = y_verdadeiro\n",
    "y_plot = y_previsao\n",
    "\n",
    "min_ = min(min(x_plot),min(y_plot))\n",
    "max_ = max(max(x_plot),max(y_plot))\n",
    "\n",
    "eixo.plot([min_,max_], [min_,max_], label=\"Identidade\")\n",
    "\n",
    "eixo.plot(\n",
    "    x_plot,\n",
    "    y_plot,\n",
    "    marker=\"o\",\n",
    "    linestyle=\"none\",\n",
    ")\n",
    "\n",
    "eixo.legend()\n",
    "\n",
    "eixo.set_xlabel(\"y verdadeiro\")\n",
    "eixo.set_ylabel(\"y previsto\")"
   ]
  },
  {
   "cell_type": "markdown",
   "metadata": {},
   "source": [
    "<hr>\n",
    "\n"
   ]
  },
  {
   "cell_type": "markdown",
   "metadata": {
    "jp-MarkdownHeadingCollapsed": true
   },
   "source": [
    "## Parte 3 - Aprendendo com o modelo\n",
    "\n"
   ]
  },
  {
   "cell_type": "markdown",
   "metadata": {},
   "source": [
    "1.  Nem todos os modelos são interpretáveis como as árvores de decisão (conceito do modelo &ldquo;caixa-preta&rdquo;)\n",
    "\n",
    "2.  Existem algoritmos que buscam estimar o impacto de cada atributo nas previsões dos modelos (exemplo: SHAP)\n",
    "\n",
    "3.  Correlação não implica em causalidade\n",
    "\n"
   ]
  },
  {
   "cell_type": "markdown",
   "metadata": {},
   "source": [
    "### Valores SHAP\n",
    "\n"
   ]
  },
  {
   "cell_type": "markdown",
   "metadata": {},
   "source": [
    "Antes de seguir em frente, precisamos calcular os valores SHAP para cada material.\n",
    "\n"
   ]
  },
  {
   "cell_type": "code",
   "execution_count": null,
   "metadata": {},
   "outputs": [],
   "source": [
    "explicador = shap.explainers.Tree(modelo, X)\n",
    "valores_shap = explicador(X)"
   ]
  },
  {
   "cell_type": "markdown",
   "metadata": {},
   "source": [
    "### Explicando uma previsão\n",
    "\n"
   ]
  },
  {
   "cell_type": "markdown",
   "metadata": {},
   "source": [
    "Podemos avaliar o impacto de cada atributo na previsão do modelo.\n",
    "\n"
   ]
  },
  {
   "cell_type": "code",
   "execution_count": null,
   "metadata": {},
   "outputs": [],
   "source": [
    "POS = 0\n",
    "\n",
    "shap.plots.waterfall(valores_shap[POS])"
   ]
  },
  {
   "cell_type": "markdown",
   "metadata": {},
   "source": [
    "### Os atributos de maior impacto\n",
    "\n"
   ]
  },
  {
   "cell_type": "markdown",
   "metadata": {},
   "source": [
    "Podemos também checar quais são os atributos considerados mais importantes.\n",
    "\n"
   ]
  },
  {
   "cell_type": "code",
   "execution_count": null,
   "metadata": {},
   "outputs": [],
   "source": [
    "shap.plots.bar(valores_shap)"
   ]
  },
  {
   "cell_type": "markdown",
   "metadata": {},
   "source": [
    "### Buscando correlações (que não são necessariamente causalidades!)\n",
    "\n"
   ]
  },
  {
   "cell_type": "markdown",
   "metadata": {},
   "source": [
    "Finalmente, podemos também buscar correlações dentro de todo o conjunto de dados.\n",
    "\n"
   ]
  },
  {
   "cell_type": "code",
   "execution_count": null,
   "metadata": {},
   "outputs": [],
   "source": [
    "shap.plots.beeswarm(valores_shap)"
   ]
  },
  {
   "cell_type": "markdown",
   "metadata": {},
   "source": [
    "<hr>\n",
    "\n"
   ]
  },
  {
   "cell_type": "markdown",
   "metadata": {
    "jp-MarkdownHeadingCollapsed": true
   },
   "source": [
    "## Parte 4 - GlassNet\n",
    "\n"
   ]
  },
  {
   "cell_type": "markdown",
   "metadata": {},
   "source": [
    "1.  Existem alguns modelos prontos (isto é, já treinados) para serem usados.\n",
    "\n",
    "2.  GlassNet é uma rede neural multitarefa capaz de prever 85 propriedades de vidros e líquidos super-resfriados.\n",
    "\n",
    "3.  GlassNet é um modelo livre disponível dentro do módulo `GlassPy`.\n",
    "\n"
   ]
  },
  {
   "cell_type": "markdown",
   "metadata": {},
   "source": [
    "### Usando um modelo preditivo pronto (GlassNet)\n",
    "\n"
   ]
  },
  {
   "cell_type": "markdown",
   "metadata": {},
   "source": [
    "Para usar o modelo, primeiro é necessário criar uma instância dele.\n",
    "\n"
   ]
  },
  {
   "cell_type": "code",
   "execution_count": null,
   "metadata": {},
   "outputs": [],
   "source": [
    "modelo = GlassNet()"
   ]
  },
  {
   "cell_type": "markdown",
   "metadata": {},
   "source": [
    "Existem diversas formas de realizar uma previsão.\n",
    "\n"
   ]
  },
  {
   "cell_type": "code",
   "execution_count": null,
   "metadata": {},
   "outputs": [],
   "source": [
    "composicao = \"SiO2\"\n",
    "\n",
    "previsao = modelo.predict(composicao)\n",
    "previsao.T"
   ]
  },
  {
   "cell_type": "code",
   "execution_count": null,
   "metadata": {},
   "outputs": [],
   "source": [
    "composicao = \"Li2O(SiO2)2\"\n",
    "\n",
    "previsao = modelo.predict(composicao)\n",
    "previsao.T"
   ]
  },
  {
   "cell_type": "code",
   "execution_count": null,
   "metadata": {},
   "outputs": [],
   "source": [
    "composicao = {\n",
    "    \"SiO2\": 60,\n",
    "    \"Al2O3\": 10,\n",
    "    \"Na2O\": 30,\n",
    "}\n",
    "\n",
    "previsao = modelo.predict(composicao)\n",
    "previsao.T"
   ]
  },
  {
   "cell_type": "markdown",
   "metadata": {},
   "source": [
    "Podemos realizar previsões de mais de um vidro ao mesmo tempo.\n",
    "\n"
   ]
  },
  {
   "cell_type": "code",
   "execution_count": null,
   "metadata": {},
   "outputs": [],
   "source": [
    "data = [\n",
    "    [1, 0, 2],\n",
    "    [0, 1, 2],\n",
    "    [1, 1, 2],\n",
    "]\n",
    "\n",
    "composicoes = pd.DataFrame(data, columns=[\"Li2O\", \"Na2O\", \"SiO2\"])\n",
    "composicoes"
   ]
  },
  {
   "cell_type": "code",
   "execution_count": null,
   "metadata": {},
   "outputs": [],
   "source": [
    "previsao = modelo.predict(composicoes)\n",
    "previsao.T"
   ]
  },
  {
   "cell_type": "markdown",
   "metadata": {},
   "source": [
    "Podemos usar um DataFrame também, desde que ele tenha apenas colunas relativas à composição.\n",
    "\n"
   ]
  },
  {
   "cell_type": "code",
   "execution_count": null,
   "metadata": {},
   "outputs": [],
   "source": [
    "previsao = modelo.predict(X)\n",
    "previsao.T"
   ]
  },
  {
   "cell_type": "markdown",
   "metadata": {},
   "source": [
    "### Viscosidade com GlassNet\n",
    "\n"
   ]
  },
  {
   "cell_type": "markdown",
   "metadata": {},
   "source": [
    "Viscosidade é uma das propriedades mais importantes para fabricação de vidros pois ela determina diversas temperaturas necessárias para o processo de manufatura.\n",
    "\n"
   ]
  },
  {
   "cell_type": "code",
   "execution_count": null,
   "metadata": {},
   "outputs": [],
   "source": [
    "composicao = \"Li2O(SiO2)2\"\n",
    "temperatura = 1000\n",
    "\n",
    "previsao = modelo.predict_log10_viscosity(\n",
    "    T=temperatura,\n",
    "    composition=composicao,\n",
    ")\n",
    "previsao"
   ]
  },
  {
   "cell_type": "code",
   "execution_count": null,
   "metadata": {},
   "outputs": [],
   "source": [
    "composicao = \"Li2O(SiO2)2\"\n",
    "temperatura = np.linspace(700, 1300)\n",
    "\n",
    "previsao = modelo.predict_log10_viscosity(\n",
    "    T=temperatura,\n",
    "    composition=composicao,\n",
    ")\n",
    "\n",
    "figura, eixo = plt.subplots()\n",
    "\n",
    "eixo.plot(temperatura, previsao)\n",
    "\n",
    "eixo.set_xlabel(\"Temperatura (K)\")\n",
    "eixo.set_ylabel(\"Viscosidade ($\\log_{10}$ de Pa.s)\")"
   ]
  },
  {
   "cell_type": "markdown",
   "metadata": {},
   "source": [
    "<hr>\n",
    "\n"
   ]
  },
  {
   "cell_type": "markdown",
   "metadata": {
    "jp-MarkdownHeadingCollapsed": true
   },
   "source": [
    "## Parte 5 - Inverse design\n",
    "\n"
   ]
  },
  {
   "cell_type": "markdown",
   "metadata": {},
   "source": [
    "1.  O que é o projeto inverso?\n",
    "\n",
    "2.  Como podemos resolver este problema?\n",
    "\n"
   ]
  },
  {
   "cell_type": "markdown",
   "metadata": {},
   "source": [
    "### Código de base\n",
    "\n"
   ]
  },
  {
   "cell_type": "markdown",
   "metadata": {},
   "source": [
    "O código abaixo usa o módulo `pymoo` junto com o modelo GlassNet para buscar novos vidros.\n",
    "\n",
    "No código abaixo usamos uma busca genética já implementada no `pymoo`.\n",
    "\n"
   ]
  },
  {
   "cell_type": "code",
   "execution_count": null,
   "metadata": {},
   "outputs": [],
   "source": [
    "class Problema(Problem):\n",
    "    def __init__(self, busca, modelo):\n",
    "        num_compostos = len(busca[\"composição\"][\"compostos\"])\n",
    "        num_objetivos = len(busca[\"objetivos\"])\n",
    "        num_restricoes = len(busca.get(\"restrições\", []))\n",
    "\n",
    "        super().__init__(\n",
    "            n_var=num_compostos,\n",
    "            n_obj=num_objetivos,\n",
    "            n_ieq_constr=num_restricoes,\n",
    "            xl=busca[\"composição\"][\"mínimo\"],\n",
    "            xu=busca[\"composição\"][\"máximo\"],\n",
    "        )\n",
    "\n",
    "        self.busca = busca\n",
    "        self.modelo = modelo\n",
    "\n",
    "    def _evaluate(self, entrada, saida, *args, **kwargs):\n",
    "        compostos = self.busca[\"composição\"][\"compostos\"]\n",
    "        soma = self.busca[\"composição\"][\"soma\"]\n",
    "\n",
    "        x = to_array(entrada, compostos, rescale_to_sum=soma)\n",
    "\n",
    "        propriedades = self.modelo.predict(x)\n",
    "\n",
    "        saida[\"F\"] = []\n",
    "        for obj, stg in self.busca[\"objetivos\"].items():\n",
    "            saida[\"F\"].append((-1 * stg * propriedades[obj]).values.ravel())\n",
    "\n",
    "        if self.busca.get(\"restrições\"):\n",
    "            saida[\"G\"] = []\n",
    "            for obj, (tipo, valor) in self.busca[\"restrições\"].items():\n",
    "                index = compostos.index(obj)\n",
    "                if tipo in [\">\", \">=\"]:\n",
    "                    saida[\"G\"].append(valor - x[:, index])\n",
    "                elif tipo in [\"<\", \"<=\"]:\n",
    "                    saida[\"G\"].append(x[:, index] - valor)\n",
    "\n",
    "\n",
    "def busca_glassnet(busca):\n",
    "    \"\"\"Realiza o design inverso de um vidro.\"\"\"\n",
    "\n",
    "    modelo = GlassNet()\n",
    "\n",
    "    compostos = busca[\"composição\"][\"compostos\"]\n",
    "    previsao = list(busca[\"objetivos\"])\n",
    "    soma = busca[\"composição\"][\"soma\"]\n",
    "    num_geracoes = busca[\"otimização\"].get(\"num_gerações\", 40)\n",
    "    tam_populacao = busca[\"otimização\"].get(\"tam_populacao\", 40)\n",
    "\n",
    "    problem = Problema(busca, modelo)\n",
    "\n",
    "    algorithm = NSGA2(\n",
    "        pop_size=tam_populacao,\n",
    "        n_offsprings=int(tam_populacao / 4),\n",
    "        sampling=FloatRandomSampling(),\n",
    "        crossover=SBX(prob=0.9, eta=15),\n",
    "        mutation=PM(eta=20),\n",
    "        eliminate_duplicates=True,\n",
    "    )\n",
    "\n",
    "    termination = get_termination(\"n_gen\", num_geracoes)\n",
    "\n",
    "    res = minimize(\n",
    "        problem,\n",
    "        algorithm,\n",
    "        termination,\n",
    "        seed=1,\n",
    "        save_history=True,\n",
    "        verbose=True,\n",
    "    )\n",
    "\n",
    "    x = to_array(res.X, compostos, rescale_to_sum=soma)\n",
    "    comp = pd.DataFrame(x, columns=compostos)\n",
    "\n",
    "    prev = pd.DataFrame(res.F, columns=previsao)\n",
    "    for nome, stg in busca[\"objetivos\"].items():\n",
    "        prev[nome] /= -stg\n",
    "\n",
    "    df = pd.concat((comp, prev), axis=1)\n",
    "\n",
    "    return df"
   ]
  },
  {
   "cell_type": "markdown",
   "metadata": {},
   "source": [
    "### Configuração\n",
    "\n"
   ]
  },
  {
   "cell_type": "markdown",
   "metadata": {},
   "source": [
    "As configurações fundamentais da busca são feitas na célula abaixo.\n",
    "\n"
   ]
  },
  {
   "cell_type": "code",
   "execution_count": null,
   "metadata": {},
   "outputs": [],
   "source": [
    "COMPOSTOS = [\"SiO2\", \"Li2O\", \"K2O\", \"Na2O\", \"CaO\", \"MgO\", \"Al2O3\"]\n",
    "MIN_COMP = 0\n",
    "MAX_COMP = 100\n",
    "SOMA_COMP = 100"
   ]
  },
  {
   "cell_type": "markdown",
   "metadata": {},
   "source": [
    "### Problema de objetivo único (maximização)\n",
    "\n"
   ]
  },
  {
   "cell_type": "code",
   "execution_count": null,
   "metadata": {},
   "outputs": [],
   "source": [
    "configuracao_busca = {\n",
    "    \"composição\": {\n",
    "        \"compostos\": COMPOSTOS,\n",
    "        \"mínimo\": MIN_COMP,\n",
    "        \"máximo\": MAX_COMP,\n",
    "        \"soma\": SOMA_COMP,\n",
    "    },\n",
    "    \"objetivos\": {\n",
    "        \"Microhardness\": 1,\n",
    "    },\n",
    "    \"otimização\": {\n",
    "        \"num_gerações\": 40,\n",
    "        \"tam_população\": 40,\n",
    "    },\n",
    "}"
   ]
  },
  {
   "cell_type": "code",
   "execution_count": null,
   "metadata": {},
   "outputs": [],
   "source": [
    "resultado_busca = busca_glassnet(configuracao_busca)"
   ]
  },
  {
   "cell_type": "code",
   "execution_count": null,
   "metadata": {},
   "outputs": [],
   "source": [
    "resultado_busca"
   ]
  },
  {
   "cell_type": "markdown",
   "metadata": {},
   "source": [
    "### Problema de objetivo único (minimização)\n",
    "\n"
   ]
  },
  {
   "cell_type": "code",
   "execution_count": null,
   "metadata": {},
   "outputs": [],
   "source": [
    "configuracao_busca = {\n",
    "    \"composição\": {\n",
    "        \"compostos\": COMPOSTOS,\n",
    "        \"mínimo\": MIN_COMP,\n",
    "        \"máximo\": MAX_COMP,\n",
    "        \"soma\": SOMA_COMP,\n",
    "    },\n",
    "    \"objetivos\": {\n",
    "        \"Microhardness\": -1,\n",
    "    },\n",
    "    \"otimização\": {\n",
    "        \"num_gerações\": 40,\n",
    "        \"tam_população\": 40,\n",
    "    },\n",
    "}"
   ]
  },
  {
   "cell_type": "code",
   "execution_count": null,
   "metadata": {},
   "outputs": [],
   "source": [
    "resultado_busca = busca_glassnet(configuracao_busca)"
   ]
  },
  {
   "cell_type": "code",
   "execution_count": null,
   "metadata": {},
   "outputs": [],
   "source": [
    "resultado_busca"
   ]
  },
  {
   "cell_type": "markdown",
   "metadata": {},
   "source": [
    "### Problema de objetivo único com restrição\n",
    "\n"
   ]
  },
  {
   "cell_type": "code",
   "execution_count": null,
   "metadata": {},
   "outputs": [],
   "source": [
    "configuracao_busca = {\n",
    "    \"composição\": {\n",
    "        \"compostos\": COMPOSTOS,\n",
    "        \"mínimo\": MIN_COMP,\n",
    "        \"máximo\": MAX_COMP,\n",
    "        \"soma\": SOMA_COMP,\n",
    "    },\n",
    "    \"objetivos\": {\n",
    "        \"Microhardness\": 1,\n",
    "    },\n",
    "    \"restrições\": {\n",
    "        \"SiO2\": (\">\", 60),\n",
    "    },\n",
    "    \"otimização\": {\n",
    "        \"num_gerações\": 40,\n",
    "        \"tam_população\": 40,\n",
    "    },\n",
    "}"
   ]
  },
  {
   "cell_type": "code",
   "execution_count": null,
   "metadata": {},
   "outputs": [],
   "source": [
    "resultado_busca = busca_glassnet(configuracao_busca)"
   ]
  },
  {
   "cell_type": "code",
   "execution_count": null,
   "metadata": {},
   "outputs": [],
   "source": [
    "resultado_busca"
   ]
  },
  {
   "cell_type": "markdown",
   "metadata": {},
   "source": [
    "### Problema multiobjetivo com restrições\n",
    "\n"
   ]
  },
  {
   "cell_type": "code",
   "execution_count": null,
   "metadata": {},
   "outputs": [],
   "source": [
    "configuracao_busca = {\n",
    "    \"composição\": {\n",
    "        \"compostos\": COMPOSTOS,\n",
    "        \"mínimo\": MIN_COMP,\n",
    "        \"máximo\": MAX_COMP,\n",
    "        \"soma\": SOMA_COMP,\n",
    "    },\n",
    "    \"objetivos\": {\n",
    "        \"Microhardness\": -1,\n",
    "        \"RefractiveIndex\": 1,\n",
    "        \"AbbeNum\": 1,\n",
    "    },\n",
    "    \"restrições\": {\n",
    "        \"SiO2\": (\">\", 60),\n",
    "        \"Al2O3\": (\"<\", 10),\n",
    "    },\n",
    "    \"otimização\": {\n",
    "        \"num_gerações\": 40,\n",
    "        \"tam_população\": 40,\n",
    "    },\n",
    "}"
   ]
  },
  {
   "cell_type": "code",
   "execution_count": null,
   "metadata": {},
   "outputs": [],
   "source": [
    "resultado_busca = busca_glassnet(configuracao_busca)"
   ]
  },
  {
   "cell_type": "code",
   "execution_count": null,
   "metadata": {},
   "outputs": [],
   "source": [
    "resultado_busca"
   ]
  },
  {
   "cell_type": "markdown",
   "metadata": {},
   "source": [
    "<hr>\n",
    "\n"
   ]
  },
  {
   "cell_type": "markdown",
   "metadata": {},
   "source": [
    "## Referências\n",
    "\n"
   ]
  },
  {
   "cell_type": "markdown",
   "metadata": {},
   "source": [
    "1.  [https://numpy.org/](https://numpy.org/)\n",
    "\n",
    "2.  [https://scipy.org/](https://scipy.org/)\n",
    "\n",
    "3.  [https://pandas.pydata.org/](https://pandas.pydata.org/)\n",
    "\n",
    "4.  [https://matplotlib.org/](https://matplotlib.org/)\n",
    "\n",
    "5.  [https://scikit-learn.org/](https://scikit-learn.org/)\n",
    "\n",
    "6.  [https://pymoo.org/](https://pymoo.org/)\n",
    "\n",
    "7.  [https://shap.readthedocs.io/](https://shap.readthedocs.io/)\n",
    "\n",
    "8.  [https://glasspy.readthedocs.io/](https://glasspy.readthedocs.io/)\n",
    "\n",
    "9.  Kaufman, S., Rosset, S., Perlich, C., and Stitelman, O. (2012). Leakage in data mining: Formulation, detection, and avoidance. ACM Trans. Knowl. Discov. Data 6, 15:1-15:21. 10.1145/2382577.2382579.\n",
    "\n",
    "10. Cassar, D.R. (2023). GlassNet: A multitask deep neural network for predicting many glass properties. Ceramics International. 10.1016/j.ceramint.2023.08.281.\n",
    "\n",
    "11. Lundberg, S.M., and Lee, S.-I. (2017). A unified approach to interpreting model predictions. Advances in Neural Information Processing Systems 30, 4765–4774.\n",
    "\n"
   ]
  }
 ],
 "metadata": {
  "kernelspec": {
   "display_name": "Python 3 (ipykernel)",
   "language": "python",
   "name": "python3"
  },
  "language_info": {
   "codemirror_mode": {
    "name": "ipython",
    "version": 3
   },
   "file_extension": ".py",
   "mimetype": "text/x-python",
   "name": "python",
   "nbconvert_exporter": "python",
   "pygments_lexer": "ipython3",
   "version": "3.11.5"
  },
  "org": null
 },
 "nbformat": 4,
 "nbformat_minor": 4
}
